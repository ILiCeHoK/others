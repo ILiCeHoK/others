{
  "nbformat": 4,
  "nbformat_minor": 0,
  "metadata": {
    "colab": {
      "provenance": [],
      "authorship_tag": "ABX9TyNV0YPgGZCTnPS/c/mPHVsv",
      "include_colab_link": true
    },
    "kernelspec": {
      "name": "python3",
      "display_name": "Python 3"
    },
    "language_info": {
      "name": "python"
    }
  },
  "cells": [
    {
      "cell_type": "markdown",
      "metadata": {
        "id": "view-in-github",
        "colab_type": "text"
      },
      "source": [
        "<a href=\"https://colab.research.google.com/github/ILiCeHoK/others/blob/main/Dice.ipynb\" target=\"_parent\"><img src=\"https://colab.research.google.com/assets/colab-badge.svg\" alt=\"Open In Colab\"/></a>"
      ]
    },
    {
      "cell_type": "markdown",
      "source": [
        "#кубики"
      ],
      "metadata": {
        "id": "xFDIEq9B7Q1g"
      }
    },
    {
      "cell_type": "code",
      "execution_count": 38,
      "metadata": {
        "colab": {
          "base_uri": "https://localhost:8080/"
        },
        "id": "BxBMFqrs4lZD",
        "outputId": "9deb2349-dd0b-459c-f87e-b72c3c56464f"
      },
      "outputs": [
        {
          "output_type": "stream",
          "name": "stdout",
          "text": [
            "Жду новых встреч!\n"
          ]
        }
      ],
      "source": [
        "import random\n",
        "from google.colab import output\n",
        "x=''\n",
        "i=6\n",
        "while i > 1:\n",
        "  print('D',i ,':',x)\n",
        "  i = int(input('кол-во граней(0 или 1 выход): '))\n",
        "  output.clear()\n",
        "  if i>1:\n",
        "    x = random.randrange(1,i+1)\n",
        "    if x==1 or x==i:\n",
        "      if x==1:\n",
        "        x='Эх, не повезло. КРИТИЧЕСКАЯ 1!!!'\n",
        "      else:\n",
        "        x=('Да ты везучий. КРИТИЧЕСКАЯ',i) \n",
        "print('Жду новых встреч!')"
      ]
    }
  ]
}