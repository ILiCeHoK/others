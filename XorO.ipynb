{
  "nbformat": 4,
  "nbformat_minor": 0,
  "metadata": {
    "colab": {
      "provenance": [],
      "authorship_tag": "ABX9TyN8fl2yZbAoBzS+Vu1eOWpf",
      "include_colab_link": true
    },
    "kernelspec": {
      "name": "python3",
      "display_name": "Python 3"
    },
    "language_info": {
      "name": "python"
    }
  },
  "cells": [
    {
      "cell_type": "markdown",
      "metadata": {
        "id": "view-in-github",
        "colab_type": "text"
      },
      "source": [
        "<a href=\"https://colab.research.google.com/github/ILiCeHoK/others/blob/main/XorO.ipynb\" target=\"_parent\"><img src=\"https://colab.research.google.com/assets/colab-badge.svg\" alt=\"Open In Colab\"/></a>"
      ]
    },
    {
      "cell_type": "code",
      "source": [
        "X = 'X'\n",
        "O = 'O'\n",
        "EMPTY = '0'\n",
        "TIE = 'ничья'\n",
        "NUM_SQUARES = 9"
      ],
      "metadata": {
        "id": "ERvrSt3pHCY4"
      },
      "execution_count": 55,
      "outputs": []
    },
    {
      "cell_type": "code",
      "execution_count": 38,
      "metadata": {
        "id": "O6_nhsfZ0iEY"
      },
      "outputs": [],
      "source": [
        "def ask_yes_no(question):\n",
        "  response = None\n",
        "  while response not in ('y', 'n'):\n",
        "    response = input(question).lower()\n",
        "  return response"
      ]
    },
    {
      "cell_type": "code",
      "source": [
        "def ask_number(question,low , high):\n",
        "  response = None\n",
        "  while response not in range(low, high):\n",
        "    response = int(input(question))\n",
        "  return response"
      ],
      "metadata": {
        "id": "dXtPY_dl21GS"
      },
      "execution_count": 39,
      "outputs": []
    },
    {
      "cell_type": "code",
      "source": [
        "from os import O_DIRECTORY\n",
        "def pieces():\n",
        "  go_first = ask_yes_no('ask')\n",
        "  if go_first == 'y':\n",
        "    human = X\n",
        "    computer = O\n",
        "  else:\n",
        "    human = O\n",
        "    computer = X\n",
        "  return computer, human"
      ],
      "metadata": {
        "id": "48xJ-Lzf3fbI"
      },
      "execution_count": 40,
      "outputs": []
    },
    {
      "cell_type": "code",
      "source": [
        "def new_board():\n",
        "  board = []\n",
        "  for square in range(NUM_SQUARES):\n",
        "    board.append(EMPTY)\n",
        "  return board"
      ],
      "metadata": {
        "id": "tmA8AKRz4bue"
      },
      "execution_count": 41,
      "outputs": []
    },
    {
      "cell_type": "code",
      "source": [
        "def display_board(board):\n",
        "  print('\\n\\t', board[0], '|', board[1], '|', board[2])\n",
        "  print('\\t','--------')\n",
        "  print('\\n\\t', board[3], '|', board[4], '|', board[5])\n",
        "  print('\\t','--------')\n",
        "  print('\\n\\t', board[6], '|', board[7], '|', board[8])"
      ],
      "metadata": {
        "id": "sJKxlbEz5VCe"
      },
      "execution_count": 57,
      "outputs": []
    },
    {
      "cell_type": "code",
      "source": [
        "def legal_moves(board):\n",
        "  moves = []\n",
        "  for square in range(NUM_SQUARES):\n",
        "    if board[square] == EMPTY:\n",
        "      moves.append(square)\n",
        "  return moves"
      ],
      "metadata": {
        "id": "nCWP-8Vu5391"
      },
      "execution_count": 43,
      "outputs": []
    },
    {
      "cell_type": "code",
      "source": [
        "def winner(board):\n",
        "  WAYS_TO_WIN = ((0,1,2),(3,4,5),(6,7,8),(0,3,6),(1,4,7),(2,5,8),(0,4,8),(2,4,6))\n",
        "  for row in WAYS_TO_WIN:\n",
        "    if board[row[0]] == board[row[1]] == board[row[2]] != EMPTY:\n",
        "      winner = board[row[0]]\n",
        "      return winner\n",
        "    if EMPTY not in board:\n",
        "      return TIE \n",
        "  return None"
      ],
      "metadata": {
        "id": "cbSXHXs66hfs"
      },
      "execution_count": 44,
      "outputs": []
    },
    {
      "cell_type": "code",
      "source": [
        "def human_move(board, human):\n",
        "  legal = legal_moves(board)\n",
        "  move = None\n",
        "  while move not in legal:\n",
        "    move = ask_number('ask_number', 0, NUM_SQUARES)\n",
        "    if move not in legal:\n",
        "      print('other')\n",
        "  return move"
      ],
      "metadata": {
        "id": "XODhT13G71lG"
      },
      "execution_count": 45,
      "outputs": []
    },
    {
      "cell_type": "code",
      "source": [
        "def computer_move(board, computer, human):\n",
        "  board = board[:]\n",
        "  BEST_MOVES = (4, 0, 2, 6, 8, 1, 3, 5, 7)\n",
        "  for move in legal_moves(board):\n",
        "    board[move] = computer\n",
        "    if winner(board) == computer:\n",
        "      print(move)\n",
        "      return move\n",
        "    board[move] = EMPTY\n",
        "  for move in legal_moves(board):\n",
        "    board[move] = human\n",
        "    if winner(board) == human:\n",
        "      print(move)\n",
        "      return move\n",
        "    board[move] = EMPTY\n",
        "  for move in BEST_MOVES:\n",
        "    if move in legal_moves(board):\n",
        "      print(move)\n",
        "      return move"
      ],
      "metadata": {
        "id": "NXnaJ5da8rS1"
      },
      "execution_count": 46,
      "outputs": []
    },
    {
      "cell_type": "code",
      "source": [
        "def next_turn(turn):\n",
        "  if turn == X:\n",
        "    return O\n",
        "  else:\n",
        "    return X"
      ],
      "metadata": {
        "id": "JOiSgwdICuh7"
      },
      "execution_count": 47,
      "outputs": []
    },
    {
      "cell_type": "code",
      "source": [
        "def congrat_winner(the_winner, computer, human):\n",
        "  if the_winner != TIE:\n",
        "    print('3', the_winner, 'in 3\\n')\n",
        "  else:\n",
        "    print('50/50\\n')\n",
        "  if the_winner == computer:\n",
        "    print('comp\\n')\n",
        "  elif the_winner == human:\n",
        "    print('human\\n')\n",
        "  elif the_winner == TIE:\n",
        "    print('nikto\\n')"
      ],
      "metadata": {
        "id": "sa-EGqpbCuYE"
      },
      "execution_count": 48,
      "outputs": []
    },
    {
      "cell_type": "code",
      "source": [
        "def main():\n",
        "  computer, human = pieces()\n",
        "  turn = X\n",
        "  board = new_board()\n",
        "  display_board(board)\n",
        "  while not winner(board):\n",
        "    if turn == human:\n",
        "      move = human_move(board, human)\n",
        "      board[move] = computer\n",
        "    else:\n",
        "      move = computer_move(board, computer, human)\n",
        "      board[move] = human\n",
        "    display_board(board)\n",
        "    turn = next_turn(turn)\n",
        "  the_winner = winner(board)\n",
        "  congrat_winner(the_winner, computer, human)"
      ],
      "metadata": {
        "id": "-MnR2VGGEKfV"
      },
      "execution_count": 53,
      "outputs": []
    },
    {
      "cell_type": "code",
      "source": [
        "main()"
      ],
      "metadata": {
        "id": "m49vU81YF55b"
      },
      "execution_count": null,
      "outputs": []
    }
  ]
}